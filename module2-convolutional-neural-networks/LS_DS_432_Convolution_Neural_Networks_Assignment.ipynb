{
  "nbformat": 4,
  "nbformat_minor": 0,
  "metadata": {
    "kernelspec": {
      "name": "python3",
      "display_name": "Python 3"
    },
    "nteract": {
      "version": "0.23.1"
    },
    "colab": {
      "name": "LS_DS_432_Convolution_Neural_Networks_Assignment.ipynb",
      "provenance": []
    },
    "accelerator": "GPU"
  },
  "cells": [
    {
      "cell_type": "markdown",
      "metadata": {
        "id": "fc4yMj7mtCAZ",
        "colab_type": "text"
      },
      "source": [
        "<img align=\"left\" src=\"https://lever-client-logos.s3.amazonaws.com/864372b1-534c-480e-acd5-9711f850815c-1524247202159.png\" width=200>\n",
        "<br></br>\n",
        "<br></br>\n",
        "\n",
        "## *Data Science Unit 4 Sprint 3 Assignment 2*\n",
        "# Convolutional Neural Networks (CNNs)"
      ]
    },
    {
      "cell_type": "markdown",
      "metadata": {
        "colab_type": "text",
        "id": "0lfZdD_cp1t5"
      },
      "source": [
        "# Assignment\n",
        "\n",
        "- <a href=\"#p1\">Part 1:</a> Pre-Trained Model\n",
        "- <a href=\"#p2\">Part 2:</a> Custom CNN Model\n",
        "- <a href=\"#p3\">Part 3:</a> CNN with Data Augmentation\n",
        "\n",
        "\n",
        "You will apply three different CNN models to a binary image classification model using Keras. Classify images of Mountains (`./data/train/mountain/*`) and images of forests (`./data/train/forest/*`). Treat mountains as the positive class (1) and the forest images as the negative (zero). \n",
        "\n",
        "|Mountain (+)|Forest (-)|\n",
        "|---|---|\n",
        "|![](https://github.com/LambdaSchool/DS-Unit-4-Sprint-3-Deep-Learning/blob/main/module2-convolutional-neural-networks/data/train/mountain/art1131.jpg?raw=1)|![](https://github.com/LambdaSchool/DS-Unit-4-Sprint-3-Deep-Learning/blob/main/module2-convolutional-neural-networks/data/validation/forest/cdmc317.jpg?raw=1)|\n",
        "\n",
        "The problem is relatively difficult given that the sample is tiny: there are about 350 observations per class. This sample size might be something that you can expect with prototyping an image classification problem/solution at work. Get accustomed to evaluating several different possible models."
      ]
    },
    {
      "cell_type": "markdown",
      "metadata": {
        "colab_type": "text",
        "id": "1eawBP-otCAb"
      },
      "source": [
        "# Pre - Trained Model\n",
        "<a id=\"p1\"></a>\n",
        "\n",
        "Load a pretrained network from Keras, [ResNet50](https://tfhub.dev/google/imagenet/resnet_v1_50/classification/1) - a 50 layer deep network trained to recognize [1000 objects](https://storage.googleapis.com/download.tensorflow.org/data/ImageNetLabels.txt). Starting usage:\n",
        "\n",
        "```python\n",
        "import numpy as np\n",
        "\n",
        "from tensorflow.keras.applications.resnet50 import ResNet50\n",
        "from tensorflow.keras.preprocessing import image\n",
        "from tensorflow.keras.applications.resnet50 import preprocess_input, decode_predictions\n",
        "\n",
        "from tensorflow.keras.layers import Dense, GlobalAveragePooling2D\n",
        "from tensorflow.keras.models import Model # This is the functional API\n",
        "\n",
        "resnet = ResNet50(weights='imagenet', include_top=False)\n",
        "\n",
        "```\n",
        "\n",
        "The `include_top` parameter in `ResNet50` will remove the full connected layers from the ResNet model. The next step is to turn off the training of the ResNet layers. We want to use the learned parameters without updating them in future training passes. \n",
        "\n",
        "```python\n",
        "for layer in resnet.layers:\n",
        "    layer.trainable = False\n",
        "```\n",
        "\n",
        "Using the Keras functional API, we will need to additional additional full connected layers to our model. We we removed the top layers, we removed all preivous fully connected layers. In other words, we kept only the feature processing portions of our network. You can expert with additional layers beyond what's listed here. The `GlobalAveragePooling2D` layer functions as a really fancy flatten function by taking the average of each of the last convolutional layer outputs (which is two dimensional still). \n",
        "\n",
        "```python\n",
        "x = resnet.output\n",
        "x = GlobalAveragePooling2D()(x) # This layer is a really fancy flatten\n",
        "x = Dense(1024, activation='relu')(x)\n",
        "predictions = Dense(1, activation='sigmoid')(x)\n",
        "model = Model(resnet.input, predictions)\n",
        "```\n",
        "\n",
        "Your assignment is to apply the transfer learning above to classify images of Mountains (`./data/train/mountain/*`) and images of forests (`./data/train/forest/*`). Treat mountains as the positive class (1) and the forest images as the negative (zero). \n",
        "\n",
        "Steps to complete assignment: \n",
        "1. Load in Image Data into numpy arrays (`X`) \n",
        "2. Create a `y` for the labels\n",
        "3. Train your model with pre-trained layers from resnet\n",
        "4. Report your model's accuracy"
      ]
    },
    {
      "cell_type": "markdown",
      "metadata": {
        "id": "CLdGdXCatCAb",
        "colab_type": "text"
      },
      "source": [
        "## Load in Data\n",
        "\n",
        "This surprisingly more difficult than it seems, because you are working with directories of images instead of a single file. This boiler plate will help you download a zipped version of the directory of images. The directory is organized into \"train\" and \"validation\" which you can use inside an `ImageGenerator` class to stream batches of images thru your model.  \n"
      ]
    },
    {
      "cell_type": "markdown",
      "metadata": {
        "id": "moRVuHUqtCAc",
        "colab_type": "text"
      },
      "source": [
        "### Download & Summarize the Data\n",
        "\n",
        "This step is completed for you. Just run the cells and review the results. "
      ]
    },
    {
      "cell_type": "code",
      "metadata": {
        "id": "AR66H8o9tCAc",
        "colab_type": "code",
        "colab": {
          "base_uri": "https://localhost:8080/",
          "height": 51
        },
        "outputId": "7f59c087-deda-48a7-847c-c7c1dbd334fc"
      },
      "source": [
        "import tensorflow as tf\n",
        "import os\n",
        "\n",
        "_URL = 'https://github.com/LambdaSchool/DS-Unit-4-Sprint-3-Deep-Learning/blob/main/module2-convolutional-neural-networks/data.zip?raw=true'\n",
        "\n",
        "path_to_zip = tf.keras.utils.get_file('./data.zip', origin=_URL, extract=True)\n",
        "PATH = os.path.join(os.path.dirname(path_to_zip), 'data')"
      ],
      "execution_count": 1,
      "outputs": [
        {
          "output_type": "stream",
          "text": [
            "Downloading data from https://github.com/LambdaSchool/DS-Unit-4-Sprint-3-Deep-Learning/blob/main/module2-convolutional-neural-networks/data.zip?raw=true\n",
            "42172416/42170838 [==============================] - 0s 0us/step\n"
          ],
          "name": "stdout"
        }
      ]
    },
    {
      "cell_type": "code",
      "metadata": {
        "id": "MNFsIu_KtCAg",
        "colab_type": "code",
        "colab": {}
      },
      "source": [
        "train_dir = os.path.join(PATH, 'train')\n",
        "validation_dir = os.path.join(PATH, 'validation')"
      ],
      "execution_count": 2,
      "outputs": []
    },
    {
      "cell_type": "code",
      "metadata": {
        "id": "OsI9BQLotCAj",
        "colab_type": "code",
        "colab": {}
      },
      "source": [
        "train_mountain_dir = os.path.join(train_dir, 'mountain')  # directory with our training cat pictures\n",
        "train_forest_dir = os.path.join(train_dir, 'forest')  # directory with our training dog pictures\n",
        "validation_mountain_dir = os.path.join(validation_dir, 'mountain')  # directory with our validation cat pictures\n",
        "validation_forest_dir = os.path.join(validation_dir, 'forest')  # directory with our validation dog pictures"
      ],
      "execution_count": 3,
      "outputs": []
    },
    {
      "cell_type": "code",
      "metadata": {
        "id": "NUs1e5-XtCAl",
        "colab_type": "code",
        "colab": {}
      },
      "source": [
        "num_mountain_tr = len(os.listdir(train_mountain_dir))\n",
        "num_forest_tr = len(os.listdir(train_forest_dir))\n",
        "\n",
        "num_mountain_val = len(os.listdir(validation_mountain_dir))\n",
        "num_forest_val = len(os.listdir(validation_forest_dir))\n",
        "\n",
        "total_train = num_mountain_tr + num_forest_tr\n",
        "total_val = num_mountain_val + num_forest_val"
      ],
      "execution_count": 4,
      "outputs": []
    },
    {
      "cell_type": "code",
      "metadata": {
        "id": "ZmklbgSMtCAn",
        "colab_type": "code",
        "colab": {
          "base_uri": "https://localhost:8080/",
          "height": 136
        },
        "outputId": "565d0b0b-9faa-45ac-f73d-915c9660901d"
      },
      "source": [
        "print('total training mountain images:', num_mountain_tr)\n",
        "print('total training forest images:', num_forest_tr)\n",
        "\n",
        "print('total validation mountain images:', num_mountain_val)\n",
        "print('total validation forest images:', num_forest_val)\n",
        "print(\"--\")\n",
        "print(\"Total training images:\", total_train)\n",
        "print(\"Total validation images:\", total_val)"
      ],
      "execution_count": 5,
      "outputs": [
        {
          "output_type": "stream",
          "text": [
            "total training mountain images: 254\n",
            "total training forest images: 270\n",
            "total validation mountain images: 125\n",
            "total validation forest images: 62\n",
            "--\n",
            "Total training images: 524\n",
            "Total validation images: 187\n"
          ],
          "name": "stdout"
        }
      ]
    },
    {
      "cell_type": "markdown",
      "metadata": {
        "id": "dQ4ag4ultCAq",
        "colab_type": "text"
      },
      "source": [
        "### Keras `ImageGenerator` to Process the Data\n",
        "\n",
        "This step is completed for you, but please review the code. The `ImageGenerator` class reads in batches of data from a directory and pass them to the model one batch at a time. Just like large text files, this method is advantageous, because it stifles the need to load a bunch of images into memory. \n",
        "\n",
        "Check out the documentation for this class method: [Keras `ImageGenerator` Class](https://keras.io/preprocessing/image/#imagedatagenerator-class). You'll expand it's use in the third assignment objective."
      ]
    },
    {
      "cell_type": "code",
      "metadata": {
        "id": "67i9IW49tCAq",
        "colab_type": "code",
        "colab": {}
      },
      "source": [
        "batch_size = 16\n",
        "epochs = 50\n",
        "IMG_HEIGHT = 224\n",
        "IMG_WIDTH = 224"
      ],
      "execution_count": 6,
      "outputs": []
    },
    {
      "cell_type": "code",
      "metadata": {
        "id": "B1wNKMo1tCAt",
        "colab_type": "code",
        "colab": {}
      },
      "source": [
        "from tensorflow.keras.preprocessing.image import ImageDataGenerator\n",
        "\n",
        "train_image_generator = ImageDataGenerator(rescale=1./255) # Generator for our training data\n",
        "validation_image_generator = ImageDataGenerator(rescale=1./255) # Generator for our validation data"
      ],
      "execution_count": 7,
      "outputs": []
    },
    {
      "cell_type": "code",
      "metadata": {
        "id": "ndsuM4L9tCAv",
        "colab_type": "code",
        "colab": {
          "base_uri": "https://localhost:8080/",
          "height": 34
        },
        "outputId": "db46b6c1-5f67-45df-d7ca-6b19116977e6"
      },
      "source": [
        "train_data_gen = train_image_generator.flow_from_directory(batch_size=batch_size,\n",
        "                                                           directory=train_dir,\n",
        "                                                           shuffle=True,\n",
        "                                                           target_size=(IMG_HEIGHT, IMG_WIDTH),\n",
        "                                                           class_mode='binary')"
      ],
      "execution_count": 8,
      "outputs": [
        {
          "output_type": "stream",
          "text": [
            "Found 533 images belonging to 2 classes.\n"
          ],
          "name": "stdout"
        }
      ]
    },
    {
      "cell_type": "code",
      "metadata": {
        "id": "9kxlk3optCAy",
        "colab_type": "code",
        "colab": {
          "base_uri": "https://localhost:8080/",
          "height": 34
        },
        "outputId": "db3d9209-f037-4909-f245-ca7ba6030773"
      },
      "source": [
        "val_data_gen = validation_image_generator.flow_from_directory(batch_size=batch_size,\n",
        "                                                              directory=validation_dir,\n",
        "                                                              target_size=(IMG_HEIGHT, IMG_WIDTH),\n",
        "                                                              class_mode='binary')"
      ],
      "execution_count": 9,
      "outputs": [
        {
          "output_type": "stream",
          "text": [
            "Found 195 images belonging to 2 classes.\n"
          ],
          "name": "stdout"
        }
      ]
    },
    {
      "cell_type": "markdown",
      "metadata": {
        "id": "2l7ue6NutCA0",
        "colab_type": "text"
      },
      "source": [
        "## Instatiate Model"
      ]
    },
    {
      "cell_type": "code",
      "metadata": {
        "id": "mKNIYOEItCA0",
        "colab_type": "code",
        "colab": {
          "base_uri": "https://localhost:8080/",
          "height": 51
        },
        "outputId": "41fa2809-fad5-4dd3-8221-d883a42e2c73"
      },
      "source": [
        "import numpy as np\n",
        " \n",
        "from tensorflow.keras.applications.resnet50 import ResNet50\n",
        "from tensorflow.keras.preprocessing import image\n",
        "from tensorflow.keras.applications.resnet50 import preprocess_input, decode_predictions\n",
        " \n",
        "from tensorflow.keras.layers import Dense, GlobalAveragePooling2D\n",
        "from tensorflow.keras.models import Model # This is the functional API\n",
        " \n",
        "resnet = ResNet50(weights='imagenet', include_top=False)"
      ],
      "execution_count": 10,
      "outputs": [
        {
          "output_type": "stream",
          "text": [
            "Downloading data from https://storage.googleapis.com/tensorflow/keras-applications/resnet/resnet50_weights_tf_dim_ordering_tf_kernels_notop.h5\n",
            "94773248/94765736 [==============================] - 2s 0us/step\n"
          ],
          "name": "stdout"
        }
      ]
    },
    {
      "cell_type": "code",
      "metadata": {
        "id": "CrC3wJUFWQQ2",
        "colab_type": "code",
        "colab": {}
      },
      "source": [
        "for layer in resnet.layers:\n",
        "    layer.trainable = False"
      ],
      "execution_count": 11,
      "outputs": []
    },
    {
      "cell_type": "code",
      "metadata": {
        "id": "Wg6QmvUgWXB1",
        "colab_type": "code",
        "colab": {}
      },
      "source": [
        "x = resnet.output\n",
        "x = GlobalAveragePooling2D()(x) # This layer is a really fancy flatten\n",
        "x = Dense(1024, activation='relu')(x)\n",
        "predictions = Dense(1, activation='sigmoid')(x)\n",
        "model = Model(resnet.input, predictions)"
      ],
      "execution_count": 12,
      "outputs": []
    },
    {
      "cell_type": "code",
      "metadata": {
        "id": "N9As4Kh8WpLa",
        "colab_type": "code",
        "colab": {}
      },
      "source": [
        "# Compile Model\n",
        "\n",
        "model.compile(optimizer='adam',\n",
        "              loss='binary_crossentropy',\n",
        "              metrics=['accuracy'])"
      ],
      "execution_count": 13,
      "outputs": []
    },
    {
      "cell_type": "markdown",
      "metadata": {
        "id": "BVPBWYG7tCA2",
        "colab_type": "text"
      },
      "source": [
        "## Fit Model"
      ]
    },
    {
      "cell_type": "code",
      "metadata": {
        "id": "H4XdvWA5tCA3",
        "colab_type": "code",
        "colab": {
          "base_uri": "https://localhost:8080/",
          "height": 1000
        },
        "outputId": "d786a17e-ab99-41bd-a188-96e58ddb6b97"
      },
      "source": [
        "history = model.fit(\n",
        "    train_data_gen,\n",
        "    steps_per_epoch=total_train // batch_size,\n",
        "    epochs=epochs,\n",
        "    validation_data=val_data_gen,\n",
        "    validation_steps=total_val // batch_size\n",
        ")"
      ],
      "execution_count": 14,
      "outputs": [
        {
          "output_type": "stream",
          "text": [
            "Epoch 1/50\n",
            "32/32 [==============================] - 3s 107ms/step - loss: 0.8981 - accuracy: 0.5309 - val_loss: 1.1811 - val_accuracy: 0.3295\n",
            "Epoch 2/50\n",
            "32/32 [==============================] - 2s 76ms/step - loss: 0.6464 - accuracy: 0.5968 - val_loss: 0.5662 - val_accuracy: 0.8182\n",
            "Epoch 3/50\n",
            "32/32 [==============================] - 2s 75ms/step - loss: 0.5553 - accuracy: 0.7166 - val_loss: 0.6881 - val_accuracy: 0.5114\n",
            "Epoch 4/50\n",
            "32/32 [==============================] - 2s 76ms/step - loss: 0.4923 - accuracy: 0.7871 - val_loss: 0.4348 - val_accuracy: 0.8239\n",
            "Epoch 5/50\n",
            "32/32 [==============================] - 2s 76ms/step - loss: 0.4855 - accuracy: 0.7784 - val_loss: 1.1962 - val_accuracy: 0.3636\n",
            "Epoch 6/50\n",
            "32/32 [==============================] - 2s 76ms/step - loss: 0.4799 - accuracy: 0.7445 - val_loss: 0.5491 - val_accuracy: 0.7557\n",
            "Epoch 7/50\n",
            "32/32 [==============================] - 2s 75ms/step - loss: 0.4047 - accuracy: 0.8483 - val_loss: 0.3800 - val_accuracy: 0.8807\n",
            "Epoch 8/50\n",
            "32/32 [==============================] - 2s 75ms/step - loss: 0.3459 - accuracy: 0.8842 - val_loss: 0.4315 - val_accuracy: 0.8409\n",
            "Epoch 9/50\n",
            "32/32 [==============================] - 2s 75ms/step - loss: 0.3581 - accuracy: 0.8623 - val_loss: 0.4377 - val_accuracy: 0.8352\n",
            "Epoch 10/50\n",
            "32/32 [==============================] - 2s 75ms/step - loss: 0.3640 - accuracy: 0.8463 - val_loss: 0.5143 - val_accuracy: 0.7841\n",
            "Epoch 11/50\n",
            "32/32 [==============================] - 2s 75ms/step - loss: 0.3138 - accuracy: 0.8862 - val_loss: 0.3434 - val_accuracy: 0.8580\n",
            "Epoch 12/50\n",
            "32/32 [==============================] - 2s 75ms/step - loss: 0.2804 - accuracy: 0.9122 - val_loss: 0.3174 - val_accuracy: 0.9034\n",
            "Epoch 13/50\n",
            "32/32 [==============================] - 2s 75ms/step - loss: 0.2652 - accuracy: 0.9162 - val_loss: 0.2884 - val_accuracy: 0.9148\n",
            "Epoch 14/50\n",
            "32/32 [==============================] - 2s 75ms/step - loss: 0.4180 - accuracy: 0.7904 - val_loss: 0.4628 - val_accuracy: 0.8182\n",
            "Epoch 15/50\n",
            "32/32 [==============================] - 2s 76ms/step - loss: 0.2606 - accuracy: 0.8982 - val_loss: 0.3752 - val_accuracy: 0.8523\n",
            "Epoch 16/50\n",
            "32/32 [==============================] - 2s 75ms/step - loss: 0.2508 - accuracy: 0.9042 - val_loss: 0.3408 - val_accuracy: 0.8125\n",
            "Epoch 17/50\n",
            "32/32 [==============================] - 2s 76ms/step - loss: 0.2602 - accuracy: 0.8982 - val_loss: 0.2859 - val_accuracy: 0.9034\n",
            "Epoch 18/50\n",
            "32/32 [==============================] - 2s 76ms/step - loss: 0.2117 - accuracy: 0.9222 - val_loss: 0.2682 - val_accuracy: 0.8864\n",
            "Epoch 19/50\n",
            "32/32 [==============================] - 2s 75ms/step - loss: 0.2009 - accuracy: 0.9441 - val_loss: 0.3631 - val_accuracy: 0.8580\n",
            "Epoch 20/50\n",
            "32/32 [==============================] - 2s 75ms/step - loss: 0.1833 - accuracy: 0.9461 - val_loss: 0.2632 - val_accuracy: 0.9205\n",
            "Epoch 21/50\n",
            "32/32 [==============================] - 2s 76ms/step - loss: 0.2104 - accuracy: 0.9182 - val_loss: 0.2410 - val_accuracy: 0.9034\n",
            "Epoch 22/50\n",
            "32/32 [==============================] - 2s 75ms/step - loss: 0.1768 - accuracy: 0.9341 - val_loss: 0.2414 - val_accuracy: 0.9091\n",
            "Epoch 23/50\n",
            "32/32 [==============================] - 2s 75ms/step - loss: 0.2466 - accuracy: 0.8862 - val_loss: 0.2490 - val_accuracy: 0.9091\n",
            "Epoch 24/50\n",
            "32/32 [==============================] - 2s 76ms/step - loss: 0.2497 - accuracy: 0.8902 - val_loss: 0.5710 - val_accuracy: 0.7614\n",
            "Epoch 25/50\n",
            "32/32 [==============================] - 2s 76ms/step - loss: 0.2999 - accuracy: 0.8711 - val_loss: 0.2255 - val_accuracy: 0.9375\n",
            "Epoch 26/50\n",
            "32/32 [==============================] - 2s 76ms/step - loss: 0.2088 - accuracy: 0.9281 - val_loss: 0.3392 - val_accuracy: 0.8011\n",
            "Epoch 27/50\n",
            "32/32 [==============================] - 2s 76ms/step - loss: 0.1995 - accuracy: 0.9002 - val_loss: 0.3156 - val_accuracy: 0.8693\n",
            "Epoch 28/50\n",
            "32/32 [==============================] - 2s 76ms/step - loss: 0.1631 - accuracy: 0.9341 - val_loss: 0.2576 - val_accuracy: 0.8920\n",
            "Epoch 29/50\n",
            "32/32 [==============================] - 3s 78ms/step - loss: 0.1330 - accuracy: 0.9561 - val_loss: 0.4897 - val_accuracy: 0.8068\n",
            "Epoch 30/50\n",
            "32/32 [==============================] - 2s 77ms/step - loss: 0.1528 - accuracy: 0.9401 - val_loss: 0.3330 - val_accuracy: 0.8523\n",
            "Epoch 31/50\n",
            "32/32 [==============================] - 2s 77ms/step - loss: 0.1179 - accuracy: 0.9661 - val_loss: 0.1881 - val_accuracy: 0.9375\n",
            "Epoch 32/50\n",
            "32/32 [==============================] - 2s 77ms/step - loss: 0.1934 - accuracy: 0.9162 - val_loss: 0.2168 - val_accuracy: 0.9148\n",
            "Epoch 33/50\n",
            "32/32 [==============================] - 2s 76ms/step - loss: 0.1181 - accuracy: 0.9661 - val_loss: 0.4031 - val_accuracy: 0.8409\n",
            "Epoch 34/50\n",
            "32/32 [==============================] - 2s 77ms/step - loss: 0.2182 - accuracy: 0.9062 - val_loss: 0.3390 - val_accuracy: 0.8523\n",
            "Epoch 35/50\n",
            "32/32 [==============================] - 2s 75ms/step - loss: 0.1366 - accuracy: 0.9521 - val_loss: 0.1857 - val_accuracy: 0.9432\n",
            "Epoch 36/50\n",
            "32/32 [==============================] - 2s 77ms/step - loss: 0.1312 - accuracy: 0.9641 - val_loss: 0.2328 - val_accuracy: 0.9261\n",
            "Epoch 37/50\n",
            "32/32 [==============================] - 2s 77ms/step - loss: 0.1123 - accuracy: 0.9561 - val_loss: 0.2386 - val_accuracy: 0.8920\n",
            "Epoch 38/50\n",
            "32/32 [==============================] - 2s 76ms/step - loss: 0.1901 - accuracy: 0.9062 - val_loss: 0.1907 - val_accuracy: 0.9432\n",
            "Epoch 39/50\n",
            "32/32 [==============================] - 2s 76ms/step - loss: 0.2354 - accuracy: 0.9022 - val_loss: 0.3830 - val_accuracy: 0.8523\n",
            "Epoch 40/50\n",
            "32/32 [==============================] - 2s 76ms/step - loss: 0.1306 - accuracy: 0.9481 - val_loss: 0.4373 - val_accuracy: 0.8239\n",
            "Epoch 41/50\n",
            "32/32 [==============================] - 2s 76ms/step - loss: 0.2619 - accuracy: 0.9042 - val_loss: 1.4262 - val_accuracy: 0.5284\n",
            "Epoch 42/50\n",
            "32/32 [==============================] - 2s 76ms/step - loss: 0.2942 - accuracy: 0.8583 - val_loss: 0.6425 - val_accuracy: 0.7727\n",
            "Epoch 43/50\n",
            "32/32 [==============================] - 2s 76ms/step - loss: 0.1121 - accuracy: 0.9661 - val_loss: 0.2003 - val_accuracy: 0.9375\n",
            "Epoch 44/50\n",
            "32/32 [==============================] - 2s 77ms/step - loss: 0.0936 - accuracy: 0.9661 - val_loss: 0.1990 - val_accuracy: 0.9375\n",
            "Epoch 45/50\n",
            "32/32 [==============================] - 2s 77ms/step - loss: 0.1249 - accuracy: 0.9561 - val_loss: 0.2565 - val_accuracy: 0.9205\n",
            "Epoch 46/50\n",
            "32/32 [==============================] - 2s 76ms/step - loss: 0.1007 - accuracy: 0.9741 - val_loss: 0.2456 - val_accuracy: 0.8977\n",
            "Epoch 47/50\n",
            "32/32 [==============================] - 2s 76ms/step - loss: 0.1023 - accuracy: 0.9661 - val_loss: 0.3100 - val_accuracy: 0.8750\n",
            "Epoch 48/50\n",
            "32/32 [==============================] - 2s 76ms/step - loss: 0.0807 - accuracy: 0.9741 - val_loss: 0.2619 - val_accuracy: 0.9091\n",
            "Epoch 49/50\n",
            "32/32 [==============================] - 2s 76ms/step - loss: 0.0806 - accuracy: 0.9780 - val_loss: 0.4128 - val_accuracy: 0.8466\n",
            "Epoch 50/50\n",
            "32/32 [==============================] - 2s 76ms/step - loss: 0.0962 - accuracy: 0.9701 - val_loss: 0.1726 - val_accuracy: 0.9432\n"
          ],
          "name": "stdout"
        }
      ]
    },
    {
      "cell_type": "markdown",
      "metadata": {
        "id": "UPzsgS94tCA5",
        "colab_type": "text"
      },
      "source": [
        "# Custom CNN Model\n",
        "\n",
        "In this step, write and train your own convolutional neural network using Keras. You can use any architecture that suits you as long as it has at least one convolutional and one pooling layer at the beginning of the network - you can add more if you want. "
      ]
    },
    {
      "cell_type": "code",
      "metadata": {
        "id": "EZNONn3-YZK0",
        "colab_type": "code",
        "colab": {}
      },
      "source": [
        "from tensorflow.keras.models import Sequential\n",
        "from tensorflow.keras.layers import Conv2D, MaxPooling2D, Flatten"
      ],
      "execution_count": 15,
      "outputs": []
    },
    {
      "cell_type": "code",
      "metadata": {
        "id": "hnbJJie3tCA5",
        "colab_type": "code",
        "colab": {
          "base_uri": "https://localhost:8080/",
          "height": 425
        },
        "outputId": "afa36b41-15fc-421d-bd47-e80760a3a98c"
      },
      "source": [
        "# Define the Model\n",
        "\n",
        "model = Sequential()\n",
        "model.add(Conv2D(32, (3,3), activation='relu', input_shape=(IMG_HEIGHT,IMG_WIDTH,3)))\n",
        "model.add(MaxPooling2D((2,2)))\n",
        "model.add(Conv2D(64, (3,3), activation='relu'))\n",
        "model.add(MaxPooling2D((2,2)))\n",
        "model.add(Conv2D(64, (3,3), activation='relu'))\n",
        "model.add(Flatten())\n",
        "model.add(Dense(64, activation='relu'))\n",
        "model.add(Dense(1, activation='sigmoid'))\n",
        "\n",
        "model.summary()"
      ],
      "execution_count": 29,
      "outputs": [
        {
          "output_type": "stream",
          "text": [
            "Model: \"sequential_5\"\n",
            "_________________________________________________________________\n",
            "Layer (type)                 Output Shape              Param #   \n",
            "=================================================================\n",
            "conv2d_13 (Conv2D)           (None, 222, 222, 32)      896       \n",
            "_________________________________________________________________\n",
            "max_pooling2d_8 (MaxPooling2 (None, 111, 111, 32)      0         \n",
            "_________________________________________________________________\n",
            "conv2d_14 (Conv2D)           (None, 109, 109, 64)      18496     \n",
            "_________________________________________________________________\n",
            "max_pooling2d_9 (MaxPooling2 (None, 54, 54, 64)        0         \n",
            "_________________________________________________________________\n",
            "conv2d_15 (Conv2D)           (None, 52, 52, 64)        36928     \n",
            "_________________________________________________________________\n",
            "flatten_4 (Flatten)          (None, 173056)            0         \n",
            "_________________________________________________________________\n",
            "dense_12 (Dense)             (None, 64)                11075648  \n",
            "_________________________________________________________________\n",
            "dense_13 (Dense)             (None, 1)                 65        \n",
            "=================================================================\n",
            "Total params: 11,132,033\n",
            "Trainable params: 11,132,033\n",
            "Non-trainable params: 0\n",
            "_________________________________________________________________\n"
          ],
          "name": "stdout"
        }
      ]
    },
    {
      "cell_type": "code",
      "metadata": {
        "id": "1P_mRtoutCA9",
        "colab_type": "code",
        "colab": {}
      },
      "source": [
        "# Compile Model\n",
        "\n",
        "model.compile(optimizer='adam',\n",
        "              loss='binary_crossentropy',\n",
        "              metrics=['accuracy'])"
      ],
      "execution_count": 30,
      "outputs": []
    },
    {
      "cell_type": "code",
      "metadata": {
        "id": "CwM4GsaetCA_",
        "colab_type": "code",
        "colab": {
          "base_uri": "https://localhost:8080/",
          "height": 1000
        },
        "outputId": "6ada1085-7b43-4234-fece-9f8194bf3e95"
      },
      "source": [
        "# Fit Model\n",
        "history1 = model.fit(\n",
        "    train_data_gen,\n",
        "    steps_per_epoch=total_train // batch_size,\n",
        "    epochs=epochs,\n",
        "    validation_data=val_data_gen,\n",
        "    validation_steps=total_val // batch_size\n",
        ")"
      ],
      "execution_count": 31,
      "outputs": [
        {
          "output_type": "stream",
          "text": [
            "Epoch 1/50\n",
            "32/32 [==============================] - 2s 64ms/step - loss: 0.4660 - accuracy: 0.8145 - val_loss: 0.2048 - val_accuracy: 0.9205\n",
            "Epoch 2/50\n",
            "32/32 [==============================] - 2s 59ms/step - loss: 0.1794 - accuracy: 0.9261 - val_loss: 0.1509 - val_accuracy: 0.9318\n",
            "Epoch 3/50\n",
            "32/32 [==============================] - 2s 60ms/step - loss: 0.2263 - accuracy: 0.9242 - val_loss: 0.1588 - val_accuracy: 0.9375\n",
            "Epoch 4/50\n",
            "32/32 [==============================] - 2s 59ms/step - loss: 0.1633 - accuracy: 0.9321 - val_loss: 0.1625 - val_accuracy: 0.9432\n",
            "Epoch 5/50\n",
            "32/32 [==============================] - 2s 59ms/step - loss: 0.1197 - accuracy: 0.9561 - val_loss: 0.2400 - val_accuracy: 0.9148\n",
            "Epoch 6/50\n",
            "32/32 [==============================] - 2s 59ms/step - loss: 0.1042 - accuracy: 0.9621 - val_loss: 0.1651 - val_accuracy: 0.9375\n",
            "Epoch 7/50\n",
            "32/32 [==============================] - 2s 58ms/step - loss: 0.0999 - accuracy: 0.9641 - val_loss: 0.2586 - val_accuracy: 0.9148\n",
            "Epoch 8/50\n",
            "32/32 [==============================] - 2s 58ms/step - loss: 0.0929 - accuracy: 0.9641 - val_loss: 0.1350 - val_accuracy: 0.9375\n",
            "Epoch 9/50\n",
            "32/32 [==============================] - 2s 58ms/step - loss: 0.1078 - accuracy: 0.9681 - val_loss: 0.2961 - val_accuracy: 0.9261\n",
            "Epoch 10/50\n",
            "32/32 [==============================] - 2s 57ms/step - loss: 0.1111 - accuracy: 0.9561 - val_loss: 0.2416 - val_accuracy: 0.9091\n",
            "Epoch 11/50\n",
            "32/32 [==============================] - 2s 58ms/step - loss: 0.0275 - accuracy: 0.9940 - val_loss: 0.6080 - val_accuracy: 0.8636\n",
            "Epoch 12/50\n",
            "32/32 [==============================] - 2s 57ms/step - loss: 0.0953 - accuracy: 0.9760 - val_loss: 0.2131 - val_accuracy: 0.9375\n",
            "Epoch 13/50\n",
            "32/32 [==============================] - 2s 59ms/step - loss: 0.1078 - accuracy: 0.9561 - val_loss: 0.1548 - val_accuracy: 0.9432\n",
            "Epoch 14/50\n",
            "32/32 [==============================] - 2s 58ms/step - loss: 0.0422 - accuracy: 0.9860 - val_loss: 0.4037 - val_accuracy: 0.8807\n",
            "Epoch 15/50\n",
            "32/32 [==============================] - 2s 58ms/step - loss: 0.0138 - accuracy: 0.9940 - val_loss: 0.2716 - val_accuracy: 0.9261\n",
            "Epoch 16/50\n",
            "32/32 [==============================] - 2s 59ms/step - loss: 0.0429 - accuracy: 0.9840 - val_loss: 0.2481 - val_accuracy: 0.9091\n",
            "Epoch 17/50\n",
            "32/32 [==============================] - 2s 58ms/step - loss: 0.0889 - accuracy: 0.9741 - val_loss: 0.9016 - val_accuracy: 0.7273\n",
            "Epoch 18/50\n",
            "32/32 [==============================] - 2s 59ms/step - loss: 0.0341 - accuracy: 0.9840 - val_loss: 0.4913 - val_accuracy: 0.8807\n",
            "Epoch 19/50\n",
            "32/32 [==============================] - 2s 57ms/step - loss: 0.0091 - accuracy: 0.9980 - val_loss: 0.5425 - val_accuracy: 0.8864\n",
            "Epoch 20/50\n",
            "32/32 [==============================] - 2s 57ms/step - loss: 0.0072 - accuracy: 0.9980 - val_loss: 0.4524 - val_accuracy: 0.9091\n",
            "Epoch 21/50\n",
            "32/32 [==============================] - 2s 59ms/step - loss: 0.0010 - accuracy: 1.0000 - val_loss: 0.4275 - val_accuracy: 0.9148\n",
            "Epoch 22/50\n",
            "32/32 [==============================] - 2s 58ms/step - loss: 6.5582e-04 - accuracy: 1.0000 - val_loss: 0.5216 - val_accuracy: 0.9091\n",
            "Epoch 23/50\n",
            "32/32 [==============================] - 2s 58ms/step - loss: 4.5146e-04 - accuracy: 1.0000 - val_loss: 0.4874 - val_accuracy: 0.9205\n",
            "Epoch 24/50\n",
            "32/32 [==============================] - 2s 57ms/step - loss: 3.0671e-04 - accuracy: 1.0000 - val_loss: 0.5114 - val_accuracy: 0.9091\n",
            "Epoch 25/50\n",
            "32/32 [==============================] - 2s 58ms/step - loss: 2.0620e-04 - accuracy: 1.0000 - val_loss: 0.5184 - val_accuracy: 0.9261\n",
            "Epoch 26/50\n",
            "32/32 [==============================] - 2s 57ms/step - loss: 1.3651e-04 - accuracy: 1.0000 - val_loss: 0.4394 - val_accuracy: 0.9318\n",
            "Epoch 27/50\n",
            "32/32 [==============================] - 2s 58ms/step - loss: 9.2405e-05 - accuracy: 1.0000 - val_loss: 0.6397 - val_accuracy: 0.9205\n",
            "Epoch 28/50\n",
            "32/32 [==============================] - 2s 57ms/step - loss: 6.6274e-05 - accuracy: 1.0000 - val_loss: 0.5222 - val_accuracy: 0.9318\n",
            "Epoch 29/50\n",
            "32/32 [==============================] - 2s 58ms/step - loss: 5.6865e-05 - accuracy: 1.0000 - val_loss: 0.6403 - val_accuracy: 0.9205\n",
            "Epoch 30/50\n",
            "32/32 [==============================] - 2s 57ms/step - loss: 4.6086e-05 - accuracy: 1.0000 - val_loss: 0.6460 - val_accuracy: 0.9148\n",
            "Epoch 31/50\n",
            "32/32 [==============================] - 2s 58ms/step - loss: 3.7148e-05 - accuracy: 1.0000 - val_loss: 0.5239 - val_accuracy: 0.9205\n",
            "Epoch 32/50\n",
            "32/32 [==============================] - 2s 59ms/step - loss: 2.3904e-05 - accuracy: 1.0000 - val_loss: 0.6819 - val_accuracy: 0.9205\n",
            "Epoch 33/50\n",
            "32/32 [==============================] - 2s 58ms/step - loss: 2.5596e-05 - accuracy: 1.0000 - val_loss: 0.5276 - val_accuracy: 0.9261\n",
            "Epoch 34/50\n",
            "32/32 [==============================] - 2s 58ms/step - loss: 1.7952e-05 - accuracy: 1.0000 - val_loss: 0.6542 - val_accuracy: 0.9148\n",
            "Epoch 35/50\n",
            "32/32 [==============================] - 2s 58ms/step - loss: 1.7014e-05 - accuracy: 1.0000 - val_loss: 0.5225 - val_accuracy: 0.9318\n",
            "Epoch 36/50\n",
            "32/32 [==============================] - 2s 59ms/step - loss: 1.5530e-05 - accuracy: 1.0000 - val_loss: 0.4951 - val_accuracy: 0.9205\n",
            "Epoch 37/50\n",
            "32/32 [==============================] - 2s 59ms/step - loss: 1.4581e-05 - accuracy: 1.0000 - val_loss: 0.4829 - val_accuracy: 0.9261\n",
            "Epoch 38/50\n",
            "32/32 [==============================] - 2s 59ms/step - loss: 1.3197e-05 - accuracy: 1.0000 - val_loss: 0.7208 - val_accuracy: 0.9148\n",
            "Epoch 39/50\n",
            "32/32 [==============================] - 2s 58ms/step - loss: 1.2015e-05 - accuracy: 1.0000 - val_loss: 0.7297 - val_accuracy: 0.9148\n",
            "Epoch 40/50\n",
            "32/32 [==============================] - 2s 58ms/step - loss: 1.0821e-05 - accuracy: 1.0000 - val_loss: 0.7563 - val_accuracy: 0.9148\n",
            "Epoch 41/50\n",
            "32/32 [==============================] - 2s 58ms/step - loss: 8.1337e-06 - accuracy: 1.0000 - val_loss: 0.6702 - val_accuracy: 0.9261\n",
            "Epoch 42/50\n",
            "32/32 [==============================] - 2s 58ms/step - loss: 7.6033e-06 - accuracy: 1.0000 - val_loss: 0.6602 - val_accuracy: 0.9318\n",
            "Epoch 43/50\n",
            "32/32 [==============================] - 2s 58ms/step - loss: 7.9213e-06 - accuracy: 1.0000 - val_loss: 0.6344 - val_accuracy: 0.9318\n",
            "Epoch 44/50\n",
            "32/32 [==============================] - 2s 59ms/step - loss: 7.6117e-06 - accuracy: 1.0000 - val_loss: 0.5153 - val_accuracy: 0.9261\n",
            "Epoch 45/50\n",
            "32/32 [==============================] - 2s 60ms/step - loss: 7.5360e-06 - accuracy: 1.0000 - val_loss: 0.6851 - val_accuracy: 0.9318\n",
            "Epoch 46/50\n",
            "32/32 [==============================] - 2s 58ms/step - loss: 5.4245e-06 - accuracy: 1.0000 - val_loss: 0.6824 - val_accuracy: 0.9318\n",
            "Epoch 47/50\n",
            "32/32 [==============================] - 2s 58ms/step - loss: 6.1995e-06 - accuracy: 1.0000 - val_loss: 0.6907 - val_accuracy: 0.9318\n",
            "Epoch 48/50\n",
            "32/32 [==============================] - 2s 59ms/step - loss: 6.5867e-06 - accuracy: 1.0000 - val_loss: 0.6767 - val_accuracy: 0.9261\n",
            "Epoch 49/50\n",
            "32/32 [==============================] - 2s 57ms/step - loss: 5.6746e-06 - accuracy: 1.0000 - val_loss: 0.5569 - val_accuracy: 0.9261\n",
            "Epoch 50/50\n",
            "32/32 [==============================] - 2s 58ms/step - loss: 4.6170e-06 - accuracy: 1.0000 - val_loss: 0.8002 - val_accuracy: 0.9148\n"
          ],
          "name": "stdout"
        }
      ]
    },
    {
      "cell_type": "markdown",
      "metadata": {
        "id": "FNTHjUddtCBB",
        "colab_type": "text"
      },
      "source": [
        "# Custom CNN Model with Image Manipulations\n",
        "\n",
        "To simulate an increase in a sample of image, you can apply image manipulation techniques: cropping, rotation, stretching, etc. Luckily Keras has some handy functions for us to apply these techniques to our mountain and forest example. Simply, you should be able to modify our image generator for the problem. Check out these resources to help you get started: \n",
        "\n",
        "1. [Keras `ImageGenerator` Class](https://keras.io/preprocessing/image/#imagedatagenerator-class)\n",
        "2. [Building a powerful image classifier with very little data](https://blog.keras.io/building-powerful-image-classification-models-using-very-little-data.html)\n",
        " "
      ]
    },
    {
      "cell_type": "code",
      "metadata": {
        "id": "XKioBv3WtCBB",
        "colab_type": "code",
        "colab": {}
      },
      "source": [
        "from tensorflow.keras.preprocessing.image import ImageDataGenerator\n",
        "\n",
        "train_image_generator = ImageDataGenerator(rotation_range=90, rescale=1./255) # Generator for our training data\n",
        "validation_image_generator = ImageDataGenerator(rotation_range=90, rescale=1./255) # Generator for our validation data"
      ],
      "execution_count": 33,
      "outputs": []
    },
    {
      "cell_type": "code",
      "metadata": {
        "id": "GLD-lgU_k-i4",
        "colab_type": "code",
        "colab": {
          "base_uri": "https://localhost:8080/",
          "height": 34
        },
        "outputId": "e7989608-2f6b-4d22-baf6-58f90b0c2a94"
      },
      "source": [
        "train_data_gen = train_image_generator.flow_from_directory(batch_size=batch_size,\n",
        "                                                           directory=train_dir,\n",
        "                                                           shuffle=True,\n",
        "                                                           target_size=(IMG_HEIGHT, IMG_WIDTH),\n",
        "                                                           class_mode='binary')"
      ],
      "execution_count": 34,
      "outputs": [
        {
          "output_type": "stream",
          "text": [
            "Found 533 images belonging to 2 classes.\n"
          ],
          "name": "stdout"
        }
      ]
    },
    {
      "cell_type": "code",
      "metadata": {
        "id": "xois0Yaok_GG",
        "colab_type": "code",
        "colab": {
          "base_uri": "https://localhost:8080/",
          "height": 34
        },
        "outputId": "3fbc88b1-e6cc-4d12-deb3-772ddd459ab1"
      },
      "source": [
        "val_data_gen = validation_image_generator.flow_from_directory(batch_size=batch_size,\n",
        "                                                              directory=validation_dir,\n",
        "                                                              target_size=(IMG_HEIGHT, IMG_WIDTH),\n",
        "                                                              class_mode='binary')"
      ],
      "execution_count": 35,
      "outputs": [
        {
          "output_type": "stream",
          "text": [
            "Found 195 images belonging to 2 classes.\n"
          ],
          "name": "stdout"
        }
      ]
    },
    {
      "cell_type": "code",
      "metadata": {
        "id": "N3YdVl7NlCeE",
        "colab_type": "code",
        "colab": {
          "base_uri": "https://localhost:8080/",
          "height": 425
        },
        "outputId": "419ba6f6-f00b-451f-a606-a41acc59ad32"
      },
      "source": [
        "# Define the Model\n",
        "\n",
        "model = Sequential()\n",
        "model.add(Conv2D(32, (3,3), activation='relu', input_shape=(IMG_HEIGHT,IMG_WIDTH,3)))\n",
        "model.add(MaxPooling2D((2,2)))\n",
        "model.add(Conv2D(64, (3,3), activation='relu'))\n",
        "model.add(MaxPooling2D((2,2)))\n",
        "model.add(Conv2D(64, (3,3), activation='relu'))\n",
        "model.add(Flatten())\n",
        "model.add(Dense(64, activation='relu'))\n",
        "model.add(Dense(1, activation='sigmoid'))\n",
        "\n",
        "model.summary()"
      ],
      "execution_count": 36,
      "outputs": [
        {
          "output_type": "stream",
          "text": [
            "Model: \"sequential_6\"\n",
            "_________________________________________________________________\n",
            "Layer (type)                 Output Shape              Param #   \n",
            "=================================================================\n",
            "conv2d_16 (Conv2D)           (None, 222, 222, 32)      896       \n",
            "_________________________________________________________________\n",
            "max_pooling2d_10 (MaxPooling (None, 111, 111, 32)      0         \n",
            "_________________________________________________________________\n",
            "conv2d_17 (Conv2D)           (None, 109, 109, 64)      18496     \n",
            "_________________________________________________________________\n",
            "max_pooling2d_11 (MaxPooling (None, 54, 54, 64)        0         \n",
            "_________________________________________________________________\n",
            "conv2d_18 (Conv2D)           (None, 52, 52, 64)        36928     \n",
            "_________________________________________________________________\n",
            "flatten_5 (Flatten)          (None, 173056)            0         \n",
            "_________________________________________________________________\n",
            "dense_14 (Dense)             (None, 64)                11075648  \n",
            "_________________________________________________________________\n",
            "dense_15 (Dense)             (None, 1)                 65        \n",
            "=================================================================\n",
            "Total params: 11,132,033\n",
            "Trainable params: 11,132,033\n",
            "Non-trainable params: 0\n",
            "_________________________________________________________________\n"
          ],
          "name": "stdout"
        }
      ]
    },
    {
      "cell_type": "code",
      "metadata": {
        "id": "2ktwpxRIlMd1",
        "colab_type": "code",
        "colab": {}
      },
      "source": [
        "# Compile Model\n",
        "\n",
        "model.compile(optimizer='adam',\n",
        "              loss='binary_crossentropy',\n",
        "              metrics=['accuracy'])"
      ],
      "execution_count": 37,
      "outputs": []
    },
    {
      "cell_type": "code",
      "metadata": {
        "id": "6LjAgKGAlOtN",
        "colab_type": "code",
        "colab": {
          "base_uri": "https://localhost:8080/",
          "height": 1000
        },
        "outputId": "cbefe5f5-27c0-43f1-9d7f-eec3bbaedd80"
      },
      "source": [
        "# Fit Model\n",
        "history1 = model.fit(\n",
        "    train_data_gen,\n",
        "    steps_per_epoch=total_train // batch_size,\n",
        "    epochs=epochs,\n",
        "    validation_data=val_data_gen,\n",
        "    validation_steps=total_val // batch_size\n",
        ")"
      ],
      "execution_count": 38,
      "outputs": [
        {
          "output_type": "stream",
          "text": [
            "Epoch 1/50\n",
            "32/32 [==============================] - 8s 264ms/step - loss: 0.7640 - accuracy: 0.7665 - val_loss: 0.4965 - val_accuracy: 0.7898\n",
            "Epoch 2/50\n",
            "32/32 [==============================] - 8s 257ms/step - loss: 0.2633 - accuracy: 0.9002 - val_loss: 0.2020 - val_accuracy: 0.9091\n",
            "Epoch 3/50\n",
            "32/32 [==============================] - 8s 257ms/step - loss: 0.1996 - accuracy: 0.9222 - val_loss: 0.2092 - val_accuracy: 0.9205\n",
            "Epoch 4/50\n",
            "32/32 [==============================] - 8s 257ms/step - loss: 0.1614 - accuracy: 0.9421 - val_loss: 0.2308 - val_accuracy: 0.9091\n",
            "Epoch 5/50\n",
            "32/32 [==============================] - 8s 257ms/step - loss: 0.2576 - accuracy: 0.9062 - val_loss: 0.3263 - val_accuracy: 0.8750\n",
            "Epoch 6/50\n",
            "32/32 [==============================] - 8s 260ms/step - loss: 0.1981 - accuracy: 0.9242 - val_loss: 0.2099 - val_accuracy: 0.9034\n",
            "Epoch 7/50\n",
            "32/32 [==============================] - 8s 254ms/step - loss: 0.1551 - accuracy: 0.9401 - val_loss: 0.1708 - val_accuracy: 0.9375\n",
            "Epoch 8/50\n",
            "32/32 [==============================] - 8s 255ms/step - loss: 0.1448 - accuracy: 0.9441 - val_loss: 0.2535 - val_accuracy: 0.8920\n",
            "Epoch 9/50\n",
            "32/32 [==============================] - 8s 254ms/step - loss: 0.1581 - accuracy: 0.9441 - val_loss: 0.1884 - val_accuracy: 0.9148\n",
            "Epoch 10/50\n",
            "32/32 [==============================] - 8s 255ms/step - loss: 0.1264 - accuracy: 0.9561 - val_loss: 0.1590 - val_accuracy: 0.9318\n",
            "Epoch 11/50\n",
            "32/32 [==============================] - 8s 254ms/step - loss: 0.1269 - accuracy: 0.9541 - val_loss: 0.2463 - val_accuracy: 0.8977\n",
            "Epoch 12/50\n",
            "32/32 [==============================] - 8s 255ms/step - loss: 0.1958 - accuracy: 0.9261 - val_loss: 0.2437 - val_accuracy: 0.9091\n",
            "Epoch 13/50\n",
            "32/32 [==============================] - 8s 255ms/step - loss: 0.1576 - accuracy: 0.9375 - val_loss: 0.1645 - val_accuracy: 0.9205\n",
            "Epoch 14/50\n",
            "32/32 [==============================] - 8s 254ms/step - loss: 0.1266 - accuracy: 0.9421 - val_loss: 0.4793 - val_accuracy: 0.8295\n",
            "Epoch 15/50\n",
            "32/32 [==============================] - 8s 259ms/step - loss: 0.1647 - accuracy: 0.9261 - val_loss: 0.1899 - val_accuracy: 0.9091\n",
            "Epoch 16/50\n",
            "32/32 [==============================] - 8s 257ms/step - loss: 0.1090 - accuracy: 0.9541 - val_loss: 0.3130 - val_accuracy: 0.8636\n",
            "Epoch 17/50\n",
            "32/32 [==============================] - 8s 254ms/step - loss: 0.1115 - accuracy: 0.9601 - val_loss: 0.1897 - val_accuracy: 0.9148\n",
            "Epoch 18/50\n",
            "32/32 [==============================] - 8s 255ms/step - loss: 0.0921 - accuracy: 0.9621 - val_loss: 0.2885 - val_accuracy: 0.9148\n",
            "Epoch 19/50\n",
            "32/32 [==============================] - 8s 257ms/step - loss: 0.1948 - accuracy: 0.9481 - val_loss: 0.1500 - val_accuracy: 0.9318\n",
            "Epoch 20/50\n",
            "32/32 [==============================] - 8s 260ms/step - loss: 0.1196 - accuracy: 0.9481 - val_loss: 0.3274 - val_accuracy: 0.9148\n",
            "Epoch 21/50\n",
            "32/32 [==============================] - 8s 261ms/step - loss: 0.0852 - accuracy: 0.9681 - val_loss: 0.1414 - val_accuracy: 0.9489\n",
            "Epoch 22/50\n",
            "32/32 [==============================] - 8s 261ms/step - loss: 0.1124 - accuracy: 0.9581 - val_loss: 0.3498 - val_accuracy: 0.8693\n",
            "Epoch 23/50\n",
            "32/32 [==============================] - 8s 254ms/step - loss: 0.1287 - accuracy: 0.9441 - val_loss: 0.4603 - val_accuracy: 0.8352\n",
            "Epoch 24/50\n",
            "32/32 [==============================] - 8s 255ms/step - loss: 0.0959 - accuracy: 0.9661 - val_loss: 0.2024 - val_accuracy: 0.9318\n",
            "Epoch 25/50\n",
            "32/32 [==============================] - 8s 260ms/step - loss: 0.0993 - accuracy: 0.9590 - val_loss: 0.1364 - val_accuracy: 0.9375\n",
            "Epoch 26/50\n",
            "32/32 [==============================] - 8s 253ms/step - loss: 0.1569 - accuracy: 0.9441 - val_loss: 0.2245 - val_accuracy: 0.9091\n",
            "Epoch 27/50\n",
            "32/32 [==============================] - 8s 255ms/step - loss: 0.1183 - accuracy: 0.9541 - val_loss: 0.1924 - val_accuracy: 0.9318\n",
            "Epoch 28/50\n",
            "32/32 [==============================] - 8s 252ms/step - loss: 0.1481 - accuracy: 0.9481 - val_loss: 0.1400 - val_accuracy: 0.9318\n",
            "Epoch 29/50\n",
            "32/32 [==============================] - 8s 252ms/step - loss: 0.0994 - accuracy: 0.9641 - val_loss: 0.1306 - val_accuracy: 0.9432\n",
            "Epoch 30/50\n",
            "32/32 [==============================] - 8s 253ms/step - loss: 0.0763 - accuracy: 0.9621 - val_loss: 0.1374 - val_accuracy: 0.9432\n",
            "Epoch 31/50\n",
            "32/32 [==============================] - 8s 257ms/step - loss: 0.0885 - accuracy: 0.9721 - val_loss: 0.2459 - val_accuracy: 0.9205\n",
            "Epoch 32/50\n",
            "32/32 [==============================] - 8s 254ms/step - loss: 0.0655 - accuracy: 0.9741 - val_loss: 0.2038 - val_accuracy: 0.9318\n",
            "Epoch 33/50\n",
            "32/32 [==============================] - 8s 256ms/step - loss: 0.0925 - accuracy: 0.9701 - val_loss: 0.1194 - val_accuracy: 0.9489\n",
            "Epoch 34/50\n",
            "32/32 [==============================] - 8s 257ms/step - loss: 0.0996 - accuracy: 0.9661 - val_loss: 0.2381 - val_accuracy: 0.9034\n",
            "Epoch 35/50\n",
            "32/32 [==============================] - 8s 258ms/step - loss: 0.1296 - accuracy: 0.9481 - val_loss: 0.1465 - val_accuracy: 0.9148\n",
            "Epoch 36/50\n",
            "32/32 [==============================] - 8s 257ms/step - loss: 0.1292 - accuracy: 0.9414 - val_loss: 0.1598 - val_accuracy: 0.9432\n",
            "Epoch 37/50\n",
            "32/32 [==============================] - 8s 256ms/step - loss: 0.0879 - accuracy: 0.9681 - val_loss: 0.1489 - val_accuracy: 0.9545\n",
            "Epoch 38/50\n",
            "32/32 [==============================] - 8s 254ms/step - loss: 0.0993 - accuracy: 0.9621 - val_loss: 0.1722 - val_accuracy: 0.9432\n",
            "Epoch 39/50\n",
            "32/32 [==============================] - 8s 254ms/step - loss: 0.0852 - accuracy: 0.9741 - val_loss: 0.1395 - val_accuracy: 0.9432\n",
            "Epoch 40/50\n",
            "32/32 [==============================] - 8s 254ms/step - loss: 0.0571 - accuracy: 0.9844 - val_loss: 0.1845 - val_accuracy: 0.9205\n",
            "Epoch 41/50\n",
            "32/32 [==============================] - 8s 254ms/step - loss: 0.1034 - accuracy: 0.9581 - val_loss: 0.2397 - val_accuracy: 0.9205\n",
            "Epoch 42/50\n",
            "32/32 [==============================] - 8s 255ms/step - loss: 0.0796 - accuracy: 0.9621 - val_loss: 0.5797 - val_accuracy: 0.8807\n",
            "Epoch 43/50\n",
            "32/32 [==============================] - 8s 253ms/step - loss: 0.1220 - accuracy: 0.9481 - val_loss: 0.2072 - val_accuracy: 0.9205\n",
            "Epoch 44/50\n",
            "32/32 [==============================] - 8s 258ms/step - loss: 0.0491 - accuracy: 0.9800 - val_loss: 0.1214 - val_accuracy: 0.9545\n",
            "Epoch 45/50\n",
            "32/32 [==============================] - 8s 256ms/step - loss: 0.0679 - accuracy: 0.9688 - val_loss: 0.2424 - val_accuracy: 0.9205\n",
            "Epoch 46/50\n",
            "32/32 [==============================] - 8s 254ms/step - loss: 0.0406 - accuracy: 0.9860 - val_loss: 0.2312 - val_accuracy: 0.9205\n",
            "Epoch 47/50\n",
            "32/32 [==============================] - 8s 255ms/step - loss: 0.0561 - accuracy: 0.9863 - val_loss: 0.1681 - val_accuracy: 0.9375\n",
            "Epoch 48/50\n",
            "32/32 [==============================] - 8s 254ms/step - loss: 0.0552 - accuracy: 0.9820 - val_loss: 0.2788 - val_accuracy: 0.9261\n",
            "Epoch 49/50\n",
            "32/32 [==============================] - 8s 254ms/step - loss: 0.0933 - accuracy: 0.9601 - val_loss: 0.1761 - val_accuracy: 0.9375\n",
            "Epoch 50/50\n",
            "32/32 [==============================] - 8s 252ms/step - loss: 0.0578 - accuracy: 0.9800 - val_loss: 0.2274 - val_accuracy: 0.9091\n"
          ],
          "name": "stdout"
        }
      ]
    },
    {
      "cell_type": "markdown",
      "metadata": {
        "colab_type": "text",
        "id": "uT3UV3gap9H6"
      },
      "source": [
        "# Resources and Stretch Goals\n",
        "\n",
        "Stretch goals\n",
        "- Enhance your code to use classes/functions and accept terms to search and classes to look for in recognizing the downloaded images (e.g. download images of parties, recognize all that contain balloons)\n",
        "- Check out [other available pretrained networks](https://tfhub.dev), try some and compare\n",
        "- Image recognition/classification is somewhat solved, but *relationships* between entities and describing an image is not - check out some of the extended resources (e.g. [Visual Genome](https://visualgenome.org/)) on the topic\n",
        "- Transfer learning - using images you source yourself, [retrain a classifier](https://www.tensorflow.org/hub/tutorials/image_retraining) with a new category\n",
        "- (Not CNN related) Use [piexif](https://pypi.org/project/piexif/) to check out the metadata of images passed in to your system - see if they're from a national park! (Note - many images lack GPS metadata, so this won't work in most cases, but still cool)\n",
        "\n",
        "Resources\n",
        "- [Deep Residual Learning for Image Recognition](https://arxiv.org/abs/1512.03385) - influential paper (introduced ResNet)\n",
        "- [YOLO: Real-Time Object Detection](https://pjreddie.com/darknet/yolo/) - an influential convolution based object detection system, focused on inference speed (for applications to e.g. self driving vehicles)\n",
        "- [R-CNN, Fast R-CNN, Faster R-CNN, YOLO](https://towardsdatascience.com/r-cnn-fast-r-cnn-faster-r-cnn-yolo-object-detection-algorithms-36d53571365e) - comparison of object detection systems\n",
        "- [Common Objects in Context](http://cocodataset.org/) - a large-scale object detection, segmentation, and captioning dataset\n",
        "- [Visual Genome](https://visualgenome.org/) - a dataset, a knowledge base, an ongoing effort to connect structured image concepts to language"
      ]
    }
  ]
}